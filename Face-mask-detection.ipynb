{
 "cells": [
  {
   "cell_type": "code",
   "execution_count": 2,
   "metadata": {},
   "outputs": [],
   "source": [
    "# MASK DETECTION"
   ]
  },
  {
   "cell_type": "code",
   "execution_count": 4,
   "metadata": {},
   "outputs": [
    {
     "name": "stdout",
     "output_type": "stream",
     "text": [
      "{'with mask': 0, 'without mask': 1}\n",
      "['with mask', 'without mask']\n",
      "[0, 1]\n"
     ]
    }
   ],
   "source": [
    "import cv2,os\n",
    "import numpy as np\n",
    "\n",
    "data_path='dataset'\n",
    "categories=os.listdir(data_path)\n",
    "labels=[i for i in range(len(categories))]\n",
    "\n",
    "label_dict=dict(zip(categories,labels))\n",
    "\n",
    "print(label_dict)\n",
    "print(categories)\n",
    "print(labels)"
   ]
  },
  {
   "cell_type": "code",
   "execution_count": 5,
   "metadata": {},
   "outputs": [],
   "source": [
    "img_size=100\n",
    "data=[]\n",
    "target=[]\n",
    "\n",
    "\n",
    "for category in categories:\n",
    "    folder_path=os.path.join(data_path,category)\n",
    "    img_names=os.listdir(folder_path)\n",
    "        \n",
    "    for img_name in img_names:\n",
    "        img_path=os.path.join(folder_path,img_name)\n",
    "        img=cv2.imread(img_path)\n",
    "\n",
    "        try:\n",
    "            gray=cv2.cvtColor(img,cv2.COLOR_BGR2GRAY)           \n",
    "            #Coverting the image into gray scale\n",
    "            resized=cv2.resize(gray,(img_size,img_size))\n",
    "            #resizing the gray scale into 100x100, since we need a fixed common size for all the images in the dataset\n",
    "            data.append(resized)\n",
    "            target.append(label_dict[category])\n",
    "            #appending the image and the label(categorized) into the list (dataset)\n",
    "\n",
    "        except Exception as e:\n",
    "            print('Exception:',e)\n",
    "            #if any exception rasied, the exception will be printed here. And pass to the next image"
   ]
  },
  {
   "cell_type": "code",
   "execution_count": 6,
   "metadata": {},
   "outputs": [
    {
     "name": "stderr",
     "output_type": "stream",
     "text": [
      "Using TensorFlow backend.\n"
     ]
    }
   ],
   "source": [
    "import numpy as np\n",
    "\n",
    "data=np.array(data)/255.0\n",
    "data=np.reshape(data,(data.shape[0],img_size,img_size,1))\n",
    "target=np.array(target)\n",
    "\n",
    "from keras.utils import np_utils\n",
    "\n",
    "target=np_utils.to_categorical(target)"
   ]
  },
  {
   "cell_type": "code",
   "execution_count": 7,
   "metadata": {},
   "outputs": [],
   "source": [
    "from keras.models import Sequential\n",
    "from keras.layers import Dense,Activation,Flatten,Dropout\n",
    "from keras.layers import Conv2D,MaxPooling2D\n",
    "from keras.callbacks import ModelCheckpoint\n",
    "\n",
    "model=Sequential()\n",
    "\n",
    "model.add(Conv2D(200,(3,3),input_shape=data.shape[1:]))\n",
    "model.add(Activation('relu'))\n",
    "model.add(MaxPooling2D(pool_size=(2,2)))\n",
    "#The first CNN layer followed by Relu and MaxPooling layers\n",
    "\n",
    "model.add(Conv2D(100,(3,3)))\n",
    "model.add(Activation('relu'))\n",
    "model.add(MaxPooling2D(pool_size=(2,2)))\n",
    "#The second convolution layer followed by Relu and MaxPooling layers\n",
    "\n",
    "model.add(Flatten())\n",
    "model.add(Dropout(0.5))\n",
    "#Flatten layer to stack the output convolutions from second convolution layer\n",
    "model.add(Dense(50,activation='relu'))\n",
    "#Dense layer of 64 neurons\n",
    "model.add(Dense(2,activation='softmax'))\n",
    "#The Final layer with two outputs for two categories\n",
    "\n",
    "model.compile(loss='categorical_crossentropy',optimizer='adam',metrics=['accuracy'])"
   ]
  },
  {
   "cell_type": "code",
   "execution_count": 8,
   "metadata": {},
   "outputs": [],
   "source": [
    "from sklearn.model_selection import train_test_split\n",
    "\n",
    "train_data,test_data,train_target,test_target=train_test_split(data,target,test_size=0.1)"
   ]
  },
  {
   "cell_type": "code",
   "execution_count": 9,
   "metadata": {},
   "outputs": [
    {
     "name": "stdout",
     "output_type": "stream",
     "text": [
      "Train on 990 samples, validate on 248 samples\n",
      "Epoch 1/20\n",
      "990/990 [==============================] - 6s 6ms/step - loss: 0.6981 - accuracy: 0.5061 - val_loss: 0.6233 - val_accuracy: 0.6371\n",
      "Epoch 2/20\n",
      "990/990 [==============================] - 3s 3ms/step - loss: 0.5555 - accuracy: 0.7010 - val_loss: 0.4972 - val_accuracy: 0.7903\n",
      "Epoch 3/20\n",
      "990/990 [==============================] - 3s 3ms/step - loss: 0.3779 - accuracy: 0.8434 - val_loss: 0.4652 - val_accuracy: 0.7823\n",
      "Epoch 4/20\n",
      "990/990 [==============================] - 3s 3ms/step - loss: 0.2529 - accuracy: 0.9121 - val_loss: 0.2680 - val_accuracy: 0.9032\n",
      "Epoch 5/20\n",
      "990/990 [==============================] - 3s 3ms/step - loss: 0.1868 - accuracy: 0.9273 - val_loss: 0.2702 - val_accuracy: 0.8952\n",
      "Epoch 6/20\n",
      "990/990 [==============================] - 3s 3ms/step - loss: 0.1393 - accuracy: 0.9545 - val_loss: 0.2422 - val_accuracy: 0.9113\n",
      "Epoch 7/20\n",
      "990/990 [==============================] - 3s 3ms/step - loss: 0.0988 - accuracy: 0.9636 - val_loss: 0.2581 - val_accuracy: 0.9194\n",
      "Epoch 8/20\n",
      "990/990 [==============================] - 3s 3ms/step - loss: 0.0834 - accuracy: 0.9727 - val_loss: 0.2523 - val_accuracy: 0.9153\n",
      "Epoch 9/20\n",
      "990/990 [==============================] - 3s 3ms/step - loss: 0.0796 - accuracy: 0.9768 - val_loss: 0.2438 - val_accuracy: 0.9234\n",
      "Epoch 10/20\n",
      "990/990 [==============================] - 3s 3ms/step - loss: 0.0764 - accuracy: 0.9707 - val_loss: 0.2014 - val_accuracy: 0.9395\n",
      "Epoch 11/20\n",
      "990/990 [==============================] - 3s 3ms/step - loss: 0.0559 - accuracy: 0.9788 - val_loss: 0.2160 - val_accuracy: 0.9355\n",
      "Epoch 12/20\n",
      "990/990 [==============================] - 3s 3ms/step - loss: 0.0437 - accuracy: 0.9818 - val_loss: 0.2077 - val_accuracy: 0.9355\n",
      "Epoch 13/20\n",
      "990/990 [==============================] - 3s 3ms/step - loss: 0.0351 - accuracy: 0.9869 - val_loss: 0.2146 - val_accuracy: 0.9395\n",
      "Epoch 14/20\n",
      "990/990 [==============================] - 3s 3ms/step - loss: 0.0214 - accuracy: 0.9960 - val_loss: 0.2549 - val_accuracy: 0.9355\n",
      "Epoch 15/20\n",
      "990/990 [==============================] - 3s 3ms/step - loss: 0.0261 - accuracy: 0.9919 - val_loss: 0.2436 - val_accuracy: 0.9355\n",
      "Epoch 16/20\n",
      "990/990 [==============================] - 3s 3ms/step - loss: 0.0415 - accuracy: 0.9859 - val_loss: 0.3371 - val_accuracy: 0.8952\n",
      "Epoch 17/20\n",
      "990/990 [==============================] - 3s 3ms/step - loss: 0.0432 - accuracy: 0.9859 - val_loss: 0.1801 - val_accuracy: 0.9516\n",
      "Epoch 18/20\n",
      "990/990 [==============================] - 3s 3ms/step - loss: 0.0267 - accuracy: 0.9919 - val_loss: 0.2437 - val_accuracy: 0.9435\n",
      "Epoch 19/20\n",
      "990/990 [==============================] - 3s 3ms/step - loss: 0.0372 - accuracy: 0.9899 - val_loss: 0.1899 - val_accuracy: 0.9476\n",
      "Epoch 20/20\n",
      "990/990 [==============================] - 3s 3ms/step - loss: 0.0159 - accuracy: 0.9970 - val_loss: 0.2129 - val_accuracy: 0.9476\n"
     ]
    },
    {
     "data": {
      "text/plain": [
       "<keras.callbacks.callbacks.History at 0x1681989f8c8>"
      ]
     },
     "execution_count": 9,
     "metadata": {},
     "output_type": "execute_result"
    }
   ],
   "source": [
    "model.fit(train_data,train_target,epochs=20,validation_split=0.2)"
   ]
  },
  {
   "cell_type": "code",
   "execution_count": 10,
   "metadata": {},
   "outputs": [],
   "source": [
    "face_clsfr=cv2.CascadeClassifier('haarcascade_frontalface_default.xml')\n",
    "\n",
    "source=cv2.VideoCapture(0)\n",
    "\n",
    "labels_dict={0:'MASK',1:'NO MASK'}\n",
    "color_dict={0:(0,255,0),1:(0,0,255)}"
   ]
  },
  {
   "cell_type": "code",
   "execution_count": null,
   "metadata": {},
   "outputs": [],
   "source": [
    "while(True):\n",
    "\n",
    "    ret,img=source.read()\n",
    "    gray=cv2.cvtColor(img,cv2.COLOR_BGR2GRAY)\n",
    "    faces=face_clsfr.detectMultiScale(gray,1.3,5)  \n",
    "\n",
    "    for (x,y,w,h) in faces:\n",
    "    \n",
    "        face_img=gray[y:y+w,x:x+w]\n",
    "        resized=cv2.resize(face_img,(100,100))\n",
    "        normalized=resized/255.0\n",
    "        reshaped=np.reshape(normalized,(1,100,100,1))\n",
    "        result=model.predict(reshaped)\n",
    "\n",
    "        label=np.argmax(result,axis=1)[0]\n",
    "      \n",
    "        cv2.rectangle(img,(x,y),(x+w,y+h),color_dict[label],2)\n",
    "        cv2.rectangle(img,(x,y-40),(x+w,y),color_dict[label],-1)\n",
    "        cv2.putText(img, labels_dict[label], (x, y-10),cv2.FONT_HERSHEY_SIMPLEX,0.8,(255,255,255),2)\n",
    "        \n",
    "        \n",
    "    cv2.imshow('LIVE',img)\n",
    "    key=cv2.waitKey(1)\n",
    "    \n",
    "    if(key==27):\n",
    "        break\n",
    "        \n",
    "cv2.destroyAllWindows()\n",
    "source.release()"
   ]
  },
  {
   "cell_type": "code",
   "execution_count": null,
   "metadata": {},
   "outputs": [],
   "source": []
  }
 ],
 "metadata": {
  "kernelspec": {
   "display_name": "Python 3",
   "language": "python",
   "name": "python3"
  },
  "language_info": {
   "codemirror_mode": {
    "name": "ipython",
    "version": 3
   },
   "file_extension": ".py",
   "mimetype": "text/x-python",
   "name": "python",
   "nbconvert_exporter": "python",
   "pygments_lexer": "ipython3",
   "version": "3.7.6"
  }
 },
 "nbformat": 4,
 "nbformat_minor": 4
}
